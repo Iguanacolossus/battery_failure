{
 "cells": [
  {
   "cell_type": "code",
   "execution_count": 2,
   "metadata": {},
   "outputs": [],
   "source": [
    "import pandas as pd\n",
    "import matplotlib.pyplot as plt"
   ]
  },
  {
   "cell_type": "code",
   "execution_count": 3,
   "metadata": {},
   "outputs": [],
   "source": [
    "df = pd.read_csv('TadiranvsSaft_3-28-24_DailyAVG.csv')"
   ]
  },
  {
   "cell_type": "code",
   "execution_count": 4,
   "metadata": {},
   "outputs": [
    {
     "data": {
      "text/html": [
       "<div>\n",
       "<style scoped>\n",
       "    .dataframe tbody tr th:only-of-type {\n",
       "        vertical-align: middle;\n",
       "    }\n",
       "\n",
       "    .dataframe tbody tr th {\n",
       "        vertical-align: top;\n",
       "    }\n",
       "\n",
       "    .dataframe thead th {\n",
       "        text-align: right;\n",
       "    }\n",
       "</style>\n",
       "<table border=\"1\" class=\"dataframe\">\n",
       "  <thead>\n",
       "    <tr style=\"text-align: right;\">\n",
       "      <th></th>\n",
       "      <th>ReadDateTime</th>\n",
       "      <th>BolusId</th>\n",
       "      <th>Voltage</th>\n",
       "      <th>BattRaw</th>\n",
       "      <th>Battery</th>\n",
       "      <th>Status</th>\n",
       "    </tr>\n",
       "  </thead>\n",
       "  <tbody>\n",
       "    <tr>\n",
       "      <th>0</th>\n",
       "      <td>3/3/2024</td>\n",
       "      <td>401728</td>\n",
       "      <td>1.86</td>\n",
       "      <td>1856</td>\n",
       "      <td>Tadiran</td>\n",
       "      <td>Warning</td>\n",
       "    </tr>\n",
       "    <tr>\n",
       "      <th>1</th>\n",
       "      <td>1/7/2024</td>\n",
       "      <td>401428</td>\n",
       "      <td>1.92</td>\n",
       "      <td>1920</td>\n",
       "      <td>Tadiran</td>\n",
       "      <td>Warning</td>\n",
       "    </tr>\n",
       "    <tr>\n",
       "      <th>2</th>\n",
       "      <td>2/25/2024</td>\n",
       "      <td>401728</td>\n",
       "      <td>1.94</td>\n",
       "      <td>1936</td>\n",
       "      <td>Tadiran</td>\n",
       "      <td>Warning</td>\n",
       "    </tr>\n",
       "    <tr>\n",
       "      <th>3</th>\n",
       "      <td>3/23/2024</td>\n",
       "      <td>400908</td>\n",
       "      <td>1.94</td>\n",
       "      <td>1936</td>\n",
       "      <td>Tadiran</td>\n",
       "      <td>Warning</td>\n",
       "    </tr>\n",
       "    <tr>\n",
       "      <th>4</th>\n",
       "      <td>3/28/2024</td>\n",
       "      <td>400868</td>\n",
       "      <td>1.94</td>\n",
       "      <td>1936</td>\n",
       "      <td>Tadiran</td>\n",
       "      <td>Warning</td>\n",
       "    </tr>\n",
       "    <tr>\n",
       "      <th>...</th>\n",
       "      <td>...</td>\n",
       "      <td>...</td>\n",
       "      <td>...</td>\n",
       "      <td>...</td>\n",
       "      <td>...</td>\n",
       "      <td>...</td>\n",
       "    </tr>\n",
       "    <tr>\n",
       "      <th>440371</th>\n",
       "      <td>1/11/2024</td>\n",
       "      <td>400777</td>\n",
       "      <td>3.55</td>\n",
       "      <td>3552</td>\n",
       "      <td>Tadiran</td>\n",
       "      <td>Irregular</td>\n",
       "    </tr>\n",
       "    <tr>\n",
       "      <th>440372</th>\n",
       "      <td>2/22/2024</td>\n",
       "      <td>400773</td>\n",
       "      <td>3.55</td>\n",
       "      <td>3552</td>\n",
       "      <td>Tadiran</td>\n",
       "      <td>Irregular</td>\n",
       "    </tr>\n",
       "    <tr>\n",
       "      <th>440373</th>\n",
       "      <td>1/13/2024</td>\n",
       "      <td>400914</td>\n",
       "      <td>3.55</td>\n",
       "      <td>3552</td>\n",
       "      <td>Tadiran</td>\n",
       "      <td>Irregular</td>\n",
       "    </tr>\n",
       "    <tr>\n",
       "      <th>440374</th>\n",
       "      <td>3/2/2024</td>\n",
       "      <td>401230</td>\n",
       "      <td>3.57</td>\n",
       "      <td>3568</td>\n",
       "      <td>Tadiran</td>\n",
       "      <td>Irregular</td>\n",
       "    </tr>\n",
       "    <tr>\n",
       "      <th>440375</th>\n",
       "      <td>2/20/2024</td>\n",
       "      <td>401385</td>\n",
       "      <td>3.57</td>\n",
       "      <td>3568</td>\n",
       "      <td>Tadiran</td>\n",
       "      <td>Irregular</td>\n",
       "    </tr>\n",
       "  </tbody>\n",
       "</table>\n",
       "<p>440376 rows × 6 columns</p>\n",
       "</div>"
      ],
      "text/plain": [
       "       ReadDateTime  BolusId  Voltage  BattRaw  Battery     Status\n",
       "0          3/3/2024   401728     1.86     1856  Tadiran    Warning\n",
       "1          1/7/2024   401428     1.92     1920  Tadiran    Warning\n",
       "2         2/25/2024   401728     1.94     1936  Tadiran    Warning\n",
       "3         3/23/2024   400908     1.94     1936  Tadiran    Warning\n",
       "4         3/28/2024   400868     1.94     1936  Tadiran    Warning\n",
       "...             ...      ...      ...      ...      ...        ...\n",
       "440371    1/11/2024   400777     3.55     3552  Tadiran  Irregular\n",
       "440372    2/22/2024   400773     3.55     3552  Tadiran  Irregular\n",
       "440373    1/13/2024   400914     3.55     3552  Tadiran  Irregular\n",
       "440374     3/2/2024   401230     3.57     3568  Tadiran  Irregular\n",
       "440375    2/20/2024   401385     3.57     3568  Tadiran  Irregular\n",
       "\n",
       "[440376 rows x 6 columns]"
      ]
     },
     "execution_count": 4,
     "metadata": {},
     "output_type": "execute_result"
    }
   ],
   "source": [
    "df"
   ]
  },
  {
   "cell_type": "code",
   "execution_count": null,
   "metadata": {},
   "outputs": [],
   "source": [
    "'''\n",
    "2.2 Volts should be considered unhealthy.\n",
    "\n",
    ">3.5 - irregular reading\n",
    "3.49 - 3.0 Volts (Excellent)\n",
    "2.9 9- 2.5 Volts (Good)\n",
    "2.49 - 2.21 (Moderate)\n",
    "<2.2 (Warning)\n",
    "\n",
    "'''"
   ]
  },
  {
   "cell_type": "code",
   "execution_count": 4,
   "metadata": {},
   "outputs": [
    {
     "data": {
      "text/plain": [
       "array(['Tadiran', 'Saft'], dtype=object)"
      ]
     },
     "execution_count": 4,
     "metadata": {},
     "output_type": "execute_result"
    }
   ],
   "source": [
    "df['Battery'].unique()"
   ]
  },
  {
   "cell_type": "code",
   "execution_count": 5,
   "metadata": {},
   "outputs": [],
   "source": [
    "tadiran = df[df['Battery'] == 'Tadiran']\n",
    "saft = df[df['Battery'] == 'Saft']"
   ]
  },
  {
   "cell_type": "markdown",
   "metadata": {},
   "source": [
    "### Time Spent in \"Warning\""
   ]
  },
  {
   "cell_type": "code",
   "execution_count": 16,
   "metadata": {},
   "outputs": [
    {
     "name": "stdout",
     "output_type": "stream",
     "text": [
      "average pct warning: 0.08549469484765966\n",
      "number of bolus with no warning: 0\n"
     ]
    }
   ],
   "source": [
    "# tadiran\n",
    "t_no_warnings = []\n",
    "t_pct_warn = []\n",
    "for bolus in tadiran['BolusId'].unique()[0:5]:\n",
    "    tmp = tadiran[tadiran['BolusId'] == bolus]\n",
    "    pct_warn = tmp[tmp['Status'] == 'Warning'].shape[0] / tmp.shape[0]\n",
    "    t_pct_warn.append(pct_warn)\n",
    "    if pct_warn == 0:\n",
    "        t_no_warnings.append(bolus)\n",
    "print(f'average pct warning: {sum(t_pct_warn) / len(t_pct_warn)}')\n",
    "print(f'number of bolus with no warning: {len(t_no_warnings)}')"
   ]
  },
  {
   "cell_type": "code",
   "execution_count": 17,
   "metadata": {},
   "outputs": [
    {
     "name": "stdout",
     "output_type": "stream",
     "text": [
      "average pct warning: 0.002494208494208494\n",
      "number of bolus with no warning: 3\n"
     ]
    }
   ],
   "source": [
    "# SAFT\n",
    "t_no_warnings = []\n",
    "t_pct_warn = []\n",
    "for bolus in saft['BolusId'].unique()[0:5]:\n",
    "    tmp = saft[saft['BolusId'] == bolus]\n",
    "    pct_warn = tmp[tmp['Status'] == 'Warning'].shape[0] / tmp.shape[0]\n",
    "    t_pct_warn.append(pct_warn)\n",
    "    if pct_warn == 0:\n",
    "        t_no_warnings.append(bolus)\n",
    "print(f'average pct warning: {sum(t_pct_warn) / len(t_pct_warn)}')\n",
    "print(f'number of bolus with no warning: {len(t_no_warnings)}')"
   ]
  },
  {
   "cell_type": "code",
   "execution_count": 6,
   "metadata": {},
   "outputs": [],
   "source": [
    "df['ds'] = pd.to_datetime(df['ReadDateTime'])"
   ]
  },
  {
   "cell_type": "code",
   "execution_count": 38,
   "metadata": {},
   "outputs": [
    {
     "data": {
      "text/plain": [
       "Timestamp('2023-08-26 00:00:00')"
      ]
     },
     "execution_count": 38,
     "metadata": {},
     "output_type": "execute_result"
    }
   ],
   "source": [
    "df[df['BolusId']==400892]['ds'].min()"
   ]
  },
  {
   "cell_type": "code",
   "execution_count": 30,
   "metadata": {},
   "outputs": [
    {
     "ename": "SyntaxError",
     "evalue": "leading zeros in decimal integer literals are not permitted; use an 0o prefix for octal integers (3437962419.py, line 1)",
     "output_type": "error",
     "traceback": [
      "\u001b[0;36m  Cell \u001b[0;32mIn[30], line 1\u001b[0;36m\u001b[0m\n\u001b[0;31m    401728 : 2023-08-30 - 2024-03-27\u001b[0m\n\u001b[0m                  ^\u001b[0m\n\u001b[0;31mSyntaxError\u001b[0m\u001b[0;31m:\u001b[0m leading zeros in decimal integer literals are not permitted; use an 0o prefix for octal integers\n"
     ]
    }
   ],
   "source": [
    "# non fails\n",
    "401728 : 2023-08-30 - 2024-03-27\n",
    "400868 : 2023-08-30- 2024-03-28\n",
    "400773 : 2023-08-30  - 2024-03-28\n",
    "401385 : 2023-08-31 - 2024-03-28\n"
   ]
  },
  {
   "cell_type": "code",
   "execution_count": 7,
   "metadata": {},
   "outputs": [
    {
     "data": {
      "text/html": [
       "<div>\n",
       "<style scoped>\n",
       "    .dataframe tbody tr th:only-of-type {\n",
       "        vertical-align: middle;\n",
       "    }\n",
       "\n",
       "    .dataframe tbody tr th {\n",
       "        vertical-align: top;\n",
       "    }\n",
       "\n",
       "    .dataframe thead th {\n",
       "        text-align: right;\n",
       "    }\n",
       "</style>\n",
       "<table border=\"1\" class=\"dataframe\">\n",
       "  <thead>\n",
       "    <tr style=\"text-align: right;\">\n",
       "      <th></th>\n",
       "      <th>BolusId</th>\n",
       "    </tr>\n",
       "  </thead>\n",
       "  <tbody>\n",
       "    <tr>\n",
       "      <th>0</th>\n",
       "      <td>400195</td>\n",
       "    </tr>\n",
       "    <tr>\n",
       "      <th>1</th>\n",
       "      <td>400892</td>\n",
       "    </tr>\n",
       "    <tr>\n",
       "      <th>2</th>\n",
       "      <td>400250</td>\n",
       "    </tr>\n",
       "    <tr>\n",
       "      <th>3</th>\n",
       "      <td>400029</td>\n",
       "    </tr>\n",
       "    <tr>\n",
       "      <th>4</th>\n",
       "      <td>400256</td>\n",
       "    </tr>\n",
       "  </tbody>\n",
       "</table>\n",
       "</div>"
      ],
      "text/plain": [
       "   BolusId\n",
       "0   400195\n",
       "1   400892\n",
       "2   400250\n",
       "3   400029\n",
       "4   400256"
      ]
     },
     "execution_count": 7,
     "metadata": {},
     "output_type": "execute_result"
    }
   ],
   "source": [
    "fails = pd.read_csv(\"Failed_units_Forest_view.csv\")\n",
    "fails.head()"
   ]
  },
  {
   "cell_type": "code",
   "execution_count": 8,
   "metadata": {},
   "outputs": [
    {
     "name": "stdout",
     "output_type": "stream",
     "text": [
      "400195:  NaT - NaT\n",
      "400892:  2023-08-26 00:00:00 - 2024-02-25 00:00:00\n",
      "400250:  2023-08-29 00:00:00 - 2024-03-10 00:00:00\n",
      "400029:  2023-08-29 00:00:00 - 2024-01-18 00:00:00\n",
      "400256:  2023-08-30 00:00:00 - 2024-02-24 00:00:00\n",
      "400660:  2023-08-30 00:00:00 - 2024-03-27 00:00:00\n",
      "401710:  2023-08-30 00:00:00 - 2024-03-28 00:00:00\n",
      "400166:  2023-08-30 00:00:00 - 2024-03-02 00:00:00\n",
      "400734:  2023-08-30 00:00:00 - 2023-12-14 00:00:00\n",
      "400976:  2023-08-30 00:00:00 - 2024-03-14 00:00:00\n",
      "401866:  2023-08-30 00:00:00 - 2024-03-14 00:00:00\n",
      "401738:  2023-08-30 00:00:00 - 2024-03-19 00:00:00\n",
      "400808:  2023-08-30 00:00:00 - 2024-03-26 00:00:00\n",
      "400802:  2023-08-30 00:00:00 - 2024-03-28 00:00:00\n"
     ]
    }
   ],
   "source": [
    "for id in fails.BolusId:\n",
    "    tmp = df[df['BolusId']==id]\n",
    "    min_ = tmp['ds'].min()\n",
    "    max_ = tmp['ds'].max()\n",
    "    print(f'{id}:  {min_} - {max_}')"
   ]
  },
  {
   "cell_type": "code",
   "execution_count": 9,
   "metadata": {},
   "outputs": [
    {
     "data": {
      "text/plain": [
       "ReadDateTime    0\n",
       "BolusId         0\n",
       "Voltage         0\n",
       "BattRaw         0\n",
       "Battery         0\n",
       "Status          0\n",
       "ds              0\n",
       "dtype: int64"
      ]
     },
     "execution_count": 9,
     "metadata": {},
     "output_type": "execute_result"
    }
   ],
   "source": [
    "\n",
    "df.isna().sum()"
   ]
  },
  {
   "cell_type": "code",
   "execution_count": 10,
   "metadata": {},
   "outputs": [
    {
     "data": {
      "text/html": [
       "<div>\n",
       "<style scoped>\n",
       "    .dataframe tbody tr th:only-of-type {\n",
       "        vertical-align: middle;\n",
       "    }\n",
       "\n",
       "    .dataframe tbody tr th {\n",
       "        vertical-align: top;\n",
       "    }\n",
       "\n",
       "    .dataframe thead th {\n",
       "        text-align: right;\n",
       "    }\n",
       "</style>\n",
       "<table border=\"1\" class=\"dataframe\">\n",
       "  <thead>\n",
       "    <tr style=\"text-align: right;\">\n",
       "      <th></th>\n",
       "      <th>ReadDateTime</th>\n",
       "      <th>BolusId</th>\n",
       "      <th>Voltage</th>\n",
       "      <th>BattRaw</th>\n",
       "      <th>Battery</th>\n",
       "      <th>Status</th>\n",
       "      <th>ds</th>\n",
       "    </tr>\n",
       "  </thead>\n",
       "  <tbody>\n",
       "  </tbody>\n",
       "</table>\n",
       "</div>"
      ],
      "text/plain": [
       "Empty DataFrame\n",
       "Columns: [ReadDateTime, BolusId, Voltage, BattRaw, Battery, Status, ds]\n",
       "Index: []"
      ]
     },
     "execution_count": 10,
     "metadata": {},
     "output_type": "execute_result"
    }
   ],
   "source": [
    "df[df['Voltage']==0]"
   ]
  },
  {
   "cell_type": "markdown",
   "metadata": {},
   "source": [
    "what does fail mean?"
   ]
  },
  {
   "cell_type": "code",
   "execution_count": 16,
   "metadata": {},
   "outputs": [],
   "source": [
    "df.loc[df['BolusId'].isin(fails['BolusId'].unique()), \"failed\"] = 1"
   ]
  },
  {
   "cell_type": "code",
   "execution_count": 18,
   "metadata": {},
   "outputs": [],
   "source": [
    "df.loc[~df['BolusId'].isin(fails['BolusId'].unique()), \"failed\"] = 0"
   ]
  },
  {
   "cell_type": "code",
   "execution_count": 20,
   "metadata": {},
   "outputs": [],
   "source": [
    "non_fails = df[df['failed'] == 0]\n",
    "fails = df[df[\"failed\"] == 1]"
   ]
  },
  {
   "cell_type": "code",
   "execution_count": 21,
   "metadata": {},
   "outputs": [],
   "source": [
    "# number of reads of non fails\n",
    "lengths = []\n",
    "for id in non_fails['BolusId'].unique():\n",
    "    tmp = non_fails[non_fails['BolusId'] == id]\n",
    "    lengths.append(len(tmp['ds']))\n"
   ]
  },
  {
   "cell_type": "code",
   "execution_count": 23,
   "metadata": {},
   "outputs": [
    {
     "data": {
      "text/plain": [
       "(array([  77.,   59.,   87.,   93., 1034.,    5.,    4.,   14.,   37.,\n",
       "         412.]),\n",
       " array([  1. ,  43.7,  86.4, 129.1, 171.8, 214.5, 257.2, 299.9, 342.6,\n",
       "        385.3, 428. ]),\n",
       " <BarContainer object of 10 artists>)"
      ]
     },
     "execution_count": 23,
     "metadata": {},
     "output_type": "execute_result"
    },
    {
     "data": {
      "image/png": "[encoded data removed]",
      "text/plain": [
       "<Figure size 640x480 with 1 Axes>"
      ]
     },
     "metadata": {},
     "output_type": "display_data"
    }
   ],
   "source": [
    "plt.hist(lengths)"
   ]
  },
  {
   "cell_type": "code",
   "execution_count": 24,
   "metadata": {},
   "outputs": [],
   "source": [
    "# number of reads of non fails\n",
    "lengths = []\n",
    "for id in fails['BolusId'].unique():\n",
    "    tmp = fails[fails['BolusId'] == id]\n",
    "    lengths.append(len(tmp['ds']))"
   ]
  },
  {
   "cell_type": "code",
   "execution_count": 25,
   "metadata": {},
   "outputs": [
    {
     "data": {
      "text/plain": [
       "(array([1., 1., 3., 4., 0., 0., 1., 0., 1., 2.]),\n",
       " array([107. , 135.3, 163.6, 191.9, 220.2, 248.5, 276.8, 305.1, 333.4,\n",
       "        361.7, 390. ]),\n",
       " <BarContainer object of 10 artists>)"
      ]
     },
     "execution_count": 25,
     "metadata": {},
     "output_type": "execute_result"
    },
    {
     "data": {
      "image/png": "[encoded data removed]",
      "text/plain": [
       "<Figure size 640x480 with 1 Axes>"
      ]
     },
     "metadata": {},
     "output_type": "display_data"
    }
   ],
   "source": [
    "plt.hist(lengths)"
   ]
  },
  {
   "cell_type": "code",
   "execution_count": null,
   "metadata": {},
   "outputs": [],
   "source": [
    "## "
   ]
  }
 ],
 "metadata": {
  "kernelspec": {
   "display_name": "base",
   "language": "python",
   "name": "python3"
  },
  "language_info": {
   "codemirror_mode": {
    "name": "ipython",
    "version": 3
   },
   "file_extension": ".py",
   "mimetype": "text/x-python",
   "name": "python",
   "nbconvert_exporter": "python",
   "pygments_lexer": "ipython3",
   "version": "3.11.7"
  }
 },
 "nbformat": 4,
 "nbformat_minor": 2
}
